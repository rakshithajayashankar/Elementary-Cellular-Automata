{
 "cells": [
  {
   "cell_type": "code",
   "execution_count": 1,
   "id": "458a23f8",
   "metadata": {},
   "outputs": [],
   "source": [
    "import numpy as np\n",
    "import matplotlib.pyplot as plt\n",
    "import matplotlib.animation as animation"
   ]
  },
  {
   "cell_type": "code",
   "execution_count": 2,
   "id": "64a189b5",
   "metadata": {},
   "outputs": [],
   "source": [
    "# Function to update the grid for each step in the animation\n",
    "def update(frameNum, img, grid, N):\n",
    "    newGrid = grid.copy()\n",
    "    for i in range(N):\n",
    "        for j in range(N):\n",
    "            # Compute the sum of the 8 neighbors of each cell\n",
    "            total = int((grid[i, (j-1)%N] + grid[i, (j+1)%N] +\n",
    "                         grid[(i-1)%N, j] + grid[(i+1)%N, j] +\n",
    "                         grid[(i-1)%N, (j-1)%N] + grid[(i-1)%N, (j+1)%N] +\n",
    "                         grid[(i+1)%N, (j-1)%N] + grid[(i+1)%N, (j+1)%N]))\n",
    "\n",
    "            # Apply Conway's rules\n",
    "            if grid[i, j] == 1:\n",
    "                if (total < 2) or (total > 3):\n",
    "                    newGrid[i, j] = 0\n",
    "            else:\n",
    "                if total == 3:\n",
    "                    newGrid[i, j] = 1\n",
    "\n",
    "    img.set_data(newGrid)\n",
    "    grid[:] = newGrid[:]\n",
    "    return img,"
   ]
  },
  {
   "cell_type": "code",
   "execution_count": 18,
   "id": "02bf338b",
   "metadata": {},
   "outputs": [
    {
     "data": {
      "image/png": "[encoded data removed]",
      "text/plain": [
       "<Figure size 432x288 with 1 Axes>"
      ]
     },
     "metadata": {
      "needs_background": "light"
     },
     "output_type": "display_data"
    }
   ],
   "source": [
    "# Main function to initialize and run the animation\n",
    "def main():\n",
    "    # Define grid size and number of generations\n",
    "    N = 50\n",
    "    generations = 10\n",
    "\n",
    "    # Initialize grid with random values\n",
    "    grid = np.random.choice([0, 1], N*N, p=[0.2, 0.8]).reshape(N, N)\n",
    "    # Set up the animation\n",
    "    fig, ax = plt.subplots()\n",
    "    img = ax.imshow(grid, interpolation='nearest')\n",
    "    ani = animation.FuncAnimation(fig, update, fargs=(img, grid, N,),\n",
    "                                  frames=generations, repeat=False, blit=True)\n",
    "    plt.show()\n",
    "\n",
    "if __name__ == '__main__':\n",
    "    main()"
   ]
  },
  {
   "cell_type": "code",
   "execution_count": null,
   "id": "950bc344",
   "metadata": {},
   "outputs": [],
   "source": []
  }
 ],
 "metadata": {
  "kernelspec": {
   "display_name": "Python 3 (ipykernel)",
   "language": "python",
   "name": "python3"
  },
  "language_info": {
   "codemirror_mode": {
    "name": "ipython",
    "version": 3
   },
   "file_extension": ".py",
   "mimetype": "text/x-python",
   "name": "python",
   "nbconvert_exporter": "python",
   "pygments_lexer": "ipython3",
   "version": "3.9.12"
  }
 },
 "nbformat": 4,
 "nbformat_minor": 5
}
